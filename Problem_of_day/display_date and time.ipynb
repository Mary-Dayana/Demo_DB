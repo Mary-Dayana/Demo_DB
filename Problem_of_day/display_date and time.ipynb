{
 "cells": [
  {
   "cell_type": "code",
   "execution_count": 1,
   "metadata": {},
   "outputs": [
    {
     "name": "stdout",
     "output_type": "stream",
     "text": [
      "Curent date and time is: 2023-01-10 23:30:25\n"
     ]
    }
   ],
   "source": [
    "import datetime\n",
    "dt = datetime.datetime.now()\n",
    "ti = datetime.datetime.now()\n",
    "date1 = dt.strftime(\"%Y-%m-%d\")\n",
    "time1 = ti.strftime(\"%H:%M:%S\")\n",
    "print(\"Curent date and time is: {0} {1}\".format(date1, time1))"
   ]
  },
  {
   "cell_type": "code",
   "execution_count": 2,
   "metadata": {},
   "outputs": [
    {
     "name": "stdout",
     "output_type": "stream",
     "text": [
      "Current date and time:\n",
      "2023-01-10 23:30:35\n"
     ]
    }
   ],
   "source": [
    "import datetime\n",
    "current_dt_time = datetime.datetime.now()\n",
    "print(\"Current date and time:\")\n",
    "print(current_dt_time.strftime(\"%Y-%m-%d %H:%M:%S\"))"
   ]
  },
  {
   "cell_type": "code",
   "execution_count": 3,
   "metadata": {},
   "outputs": [
    {
     "name": "stdout",
     "output_type": "stream",
     "text": [
      "Current date and time : \n",
      "2023-01-10 23:32:28\n"
     ]
    }
   ],
   "source": [
    "import datetime\n",
    "now = datetime.datetime.now()\n",
    "print (\"Current date and time : \")\n",
    "print (now.strftime(\"%Y-%m-%d %H:%M:%S\"))"
   ]
  },
  {
   "cell_type": "code",
   "execution_count": 79,
   "metadata": {},
   "outputs": [
    {
     "name": "stdout",
     "output_type": "stream",
     "text": [
      "2018-06-15 18:12:45.000015+00:00\n",
      "1529086365.000015\n",
      "2018-06-15 18:12:45.000015\n",
      "2018-06-15 18:12:45.000015+00:00\n",
      "1673415304.7875535\n"
     ]
    },
    {
     "ename": "AttributeError",
     "evalue": "type object 'datetime.datetime' has no attribute 'datetime'",
     "output_type": "error",
     "traceback": [
      "\u001b[1;31m---------------------------------------------------------------------------\u001b[0m",
      "\u001b[1;31mAttributeError\u001b[0m                            Traceback (most recent call last)",
      "Cell \u001b[1;32mIn[79], line 32\u001b[0m\n\u001b[0;32m     27\u001b[0m \u001b[39m# 10 digit unix time stamp\u001b[39;00m\n\u001b[0;32m     28\u001b[0m \n\u001b[0;32m     29\u001b[0m \u001b[39m#10 digit number to time is unix time stamp\u001b[39;00m\n\u001b[0;32m     30\u001b[0m \u001b[39m# Initializing a timestamp value\u001b[39;00m\n\u001b[0;32m     31\u001b[0m timestamp \u001b[39m=\u001b[39m \u001b[39m1323456464\u001b[39m\n\u001b[1;32m---> 32\u001b[0m date_From_Timestamp \u001b[39m=\u001b[39m datetime\u001b[39m.\u001b[39;49mdatetime\u001b[39m.\u001b[39mfromtimestamp(timestamp)\n\u001b[0;32m     33\u001b[0m \u001b[39mprint\u001b[39m(\u001b[39m\"\u001b[39m\u001b[39mThe data time format is : \u001b[39m\u001b[39m\"\u001b[39m, date_From_Timestamp)\n",
      "\u001b[1;31mAttributeError\u001b[0m: type object 'datetime.datetime' has no attribute 'datetime'"
     ]
    }
   ],
   "source": [
    "from datetime import datetime\n",
    "import pytz\n",
    "import time\n",
    "\n",
    "\n",
    "\n",
    "\n",
    "timezone = pytz.timezone('UTC')\n",
    "# Initializing a timestamp value\n",
    "sample_date = datetime(2018, 6, 15, 18, 12, 45, 15, tzinfo=timezone)\n",
    "print(sample_date)\n",
    "# 2018-06-15 18:12:45.000015+00:00\n",
    "\n",
    "ts = sample_date.timestamp()\n",
    "print(ts) \n",
    "# 1529086365.000015\n",
    "dt = datetime.utcfromtimestamp(ts)\n",
    "print(dt)\n",
    "# 2018-06-15 18:12:45.000015\n",
    "dt2 = datetime.fromtimestamp(ts, tz=timezone)\n",
    "print(dt2)\n",
    "# 2018-06-15 18:12:45.000015+00:00\n",
    "\n",
    "# print todays time in unix time stamp \n",
    "Todays_time = time.time()\n",
    "print(Todays_time)\n",
    "# 10 digit unix time stamp\n",
    "\n",
    "#10 digit number to time is unix time stamp\n",
    "# Initializing a timestamp value\n",
    "timestamp = 1323456464\n",
    "date_From_Timestamp = datetime.datetime.fromtimestamp(timestamp)\n",
    "print(\"The data time format is : \", date_From_Timestamp)\n",
    "\n",
    "\n"
   ]
  },
  {
   "cell_type": "code",
   "execution_count": 71,
   "metadata": {},
   "outputs": [
    {
     "name": "stdout",
     "output_type": "stream",
     "text": [
      "The data time format is :  2011-12-09 13:47:44\n"
     ]
    }
   ],
   "source": [
    "# Print date format from unix timestamp\n",
    "import datetime\n",
    "\n",
    "timestamp = 1323456464\n",
    "date_From_Timestamp = datetime.datetime.fromtimestamp(timestamp)\n",
    "print(\"The data time format is : \", date_From_Timestamp)"
   ]
  },
  {
   "cell_type": "code",
   "execution_count": 76,
   "metadata": {},
   "outputs": [
    {
     "name": "stdout",
     "output_type": "stream",
     "text": [
      "The current time is :  1673415242.6867032\n",
      "The data time format is :  2023-01-11 00:34:02.686703\n"
     ]
    }
   ],
   "source": [
    "# # Print current time in unix time stamp AND\n",
    "# convert that time stamp into Date format\n",
    "\n",
    "import time\n",
    "import datetime\n",
    "\n",
    "current_time = time.time()\n",
    "print(\"The current time is : \", current_time)\n",
    "date_time_format = datetime.datetime.fromtimestamp(current_time)\n",
    "print(\"The data time format is : \", date_time_format)"
   ]
  },
  {
   "cell_type": "code",
   "execution_count": null,
   "metadata": {},
   "outputs": [],
   "source": []
  }
 ],
 "metadata": {
  "kernelspec": {
   "display_name": "Python 3",
   "language": "python",
   "name": "python3"
  },
  "language_info": {
   "codemirror_mode": {
    "name": "ipython",
    "version": 3
   },
   "file_extension": ".py",
   "mimetype": "text/x-python",
   "name": "python",
   "nbconvert_exporter": "python",
   "pygments_lexer": "ipython3",
   "version": "3.11.0 (main, Oct 24 2022, 18:26:48) [MSC v.1933 64 bit (AMD64)]"
  },
  "orig_nbformat": 4,
  "vscode": {
   "interpreter": {
    "hash": "61e0c81b3bee69d02fcfa24507984663a96db91b02ce28fc95689e165e33abaf"
   }
  }
 },
 "nbformat": 4,
 "nbformat_minor": 2
}
