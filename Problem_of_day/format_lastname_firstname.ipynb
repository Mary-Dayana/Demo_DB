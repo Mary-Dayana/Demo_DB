{
 "cells": [
  {
   "cell_type": "code",
   "execution_count": 1,
   "metadata": {},
   "outputs": [
    {
     "name": "stdout",
     "output_type": "stream",
     "text": [
      "['Benjamin Witter', 'Sammi Grego', 'Valerie Boss']\n"
     ]
    }
   ],
   "source": [
    "def sort_names():\n",
    "    teachers = [\"Benjamin Witter\", \"Sammi Grego\", \"Valerie Boss\"]\n",
    "    new_list=list(sorted(teachers,key=lambda x:x[0], reverse=False))\n",
    "    print(new_list)\n",
    "sort_names()"
   ]
  },
  {
   "cell_type": "code",
   "execution_count": 6,
   "metadata": {},
   "outputs": [
    {
     "name": "stdout",
     "output_type": "stream",
     "text": [
      "Ascending by the first name formatted with first name first\n",
      "['Benjamin Witter', 'Sammi Grego', 'Valerie Boss']\n"
     ]
    }
   ],
   "source": [
    "# 1. Ascending by the last name formatted with first name first\n",
    "def sortfirstnames(list1):\n",
    "    sortedlist = []\n",
    "    for i in list1:\n",
    "        sortedlist.append(i.split())\n",
    "    list1 = []\n",
    "    for i in sorted(sortedlist, key=lambda x: x[0]):\n",
    "        list1.append(' '.join(i))\n",
    "    return list1\n",
    "list2 = [\"Benjamin Witter\", \"Sammi Grego\", \"Valerie Boss\"]\n",
    "print(\"Ascending by the first name formatted with first name first\")\n",
    "print(sortfirstnames(list2))"
   ]
  },
  {
   "cell_type": "code",
   "execution_count": 8,
   "metadata": {},
   "outputs": [
    {
     "name": "stdout",
     "output_type": "stream",
     "text": [
      "Ascending by the last name formatted with first name first\n",
      "['Valerie Boss', 'Sammi Grego', 'Benjamin Witter']\n"
     ]
    }
   ],
   "source": [
    "# 2.Ascending by the first name formatted with first name first\n",
    "def sortlastnames(list3):\n",
    "     sortedlast = []\n",
    "     for i in list3:\n",
    "        sortedlast.append(i.split())\n",
    "     list3 = []\n",
    "     for i in sorted(sortedlast, key=lambda x: x[-1]):\n",
    "        list3.append(' '.join(i))\n",
    "     return list3\n",
    "teachers = [\"Benjamin Witter\", \"Sammi Grego\", \"Valerie Boss\"]\n",
    "print(\"Ascending by the last name formatted with first name first\")\n",
    "print(sortlastnames(teachers))"
   ]
  },
  {
   "cell_type": "code",
   "execution_count": 9,
   "metadata": {},
   "outputs": [
    {
     "name": "stdout",
     "output_type": "stream",
     "text": [
      "Descending by the last name formatted with last name first\n",
      "[['Witter', 'Benjamin'], ['Grego', 'Sammi'], ['Boss', 'Valerie']]\n",
      "['Boss Valerie', 'Grego Sammi', 'Witter Benjamin']\n"
     ]
    }
   ],
   "source": [
    "# 3. formatted with the last name first, sorted by descending the last name\n",
    "def sortlastnames(list4):\n",
    "     sortedlastdesc = []\n",
    "     swaplist = []\n",
    "     for i in list4:\n",
    "        swaplist.append(i.split()[::-1])\n",
    "     print(swaplist)\n",
    "     list4 = []\n",
    "     for i in sorted(swaplist, key=lambda x: x[0]):\n",
    "         list4.append(' '.join(i))\n",
    "     return list4\n",
    "teachers3 = [\"Benjamin Witter\", \"Sammi Grego\", \"Valerie Boss\"]\n",
    "print(\"Descending by the last name formatted with last name first\")\n",
    "print(sortlastnames(teachers3))"
   ]
  },
  {
   "cell_type": "code",
   "execution_count": 10,
   "metadata": {},
   "outputs": [
    {
     "name": "stdout",
     "output_type": "stream",
     "text": [
      "['Beaz Joan', 'Young Neil', 'Paul Ron']\n",
      "['Beaz Joan', 'Paul Ron', 'Young Neil']\n"
     ]
    }
   ],
   "source": [
    "list1=[\"Young Neil\", \"Beaz Joan\",\"Paul Ron\"]\n",
    "firstname_sorted_bylast=sorted(list1,key = lambda x:x.split()[-1])\n",
    "firstname_sorted_byfirst=sorted(list1,key = lambda x:x.split()[0])\n",
    "print(firstname_sorted_bylast)\n",
    "print(firstname_sorted_byfirst)"
   ]
  }
 ],
 "metadata": {
  "kernelspec": {
   "display_name": "Python 3",
   "language": "python",
   "name": "python3"
  },
  "language_info": {
   "codemirror_mode": {
    "name": "ipython",
    "version": 3
   },
   "file_extension": ".py",
   "mimetype": "text/x-python",
   "name": "python",
   "nbconvert_exporter": "python",
   "pygments_lexer": "ipython3",
   "version": "3.11.0"
  },
  "orig_nbformat": 4,
  "vscode": {
   "interpreter": {
    "hash": "61e0c81b3bee69d02fcfa24507984663a96db91b02ce28fc95689e165e33abaf"
   }
  }
 },
 "nbformat": 4,
 "nbformat_minor": 2
}
