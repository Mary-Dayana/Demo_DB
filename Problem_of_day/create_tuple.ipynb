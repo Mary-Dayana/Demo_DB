{
 "cells": [
  {
   "cell_type": "code",
   "execution_count": 8,
   "metadata": {},
   "outputs": [
    {
     "name": "stdout",
     "output_type": "stream",
     "text": [
      "()\n",
      "<class 'tuple'>\n",
      "('test_with_parentheses', 1)\n",
      "<class 'tuple'>\n",
      "('test_without_parentheses', 2, 3, 'hello')\n",
      "<class 'tuple'>\n"
     ]
    }
   ],
   "source": [
    "#1. Write a Python program to create a tuple.\n",
    "\n",
    "# Create a tuple with the tuple() method\n",
    "tuple1 = tuple()\n",
    "print(tuple1)\n",
    "# Showing the type\n",
    "print(type(tuple1))\n",
    "\n",
    "# Creating a tuple with one element with parentheses\n",
    "tuple2 = (\"test_with_parentheses\", 1)\n",
    "print(tuple2)\n",
    "# Showing the type\n",
    "print(type(tuple2))\n",
    "\n",
    "# Creating a tuple with one element without parentheses\n",
    "tuple3 = \"test_without_parentheses\",2, 3, 'hello'\n",
    "print(tuple3)\n",
    "# Showing the type\n",
    "print(type(tuple3))\n"
   ]
  },
  {
   "cell_type": "code",
   "execution_count": 9,
   "metadata": {},
   "outputs": [
    {
     "name": "stdout",
     "output_type": "stream",
     "text": [
      "(7, 9.5, 'test_mixed_types')\n",
      "((4, 3, 2), [9, 7, 4], 'nested_tuple')\n"
     ]
    }
   ],
   "source": [
    " #2. Write a Python program to create a tuple with different data types.\n",
    "\n",
    " # Tuple with mixed datatypes\n",
    "mixed_tuple = (7, 9.5, \"test_mixed_types\")\n",
    "print(mixed_tuple)\n",
    "# Nested tuple\n",
    "nested_tuple = ((4, 3, 2), [9, 7, 4], \"nested_tuple\")\n",
    "print(nested_tuple)"
   ]
  },
  {
   "cell_type": "code",
   "execution_count": 15,
   "metadata": {},
   "outputs": [
    {
     "name": "stdout",
     "output_type": "stream",
     "text": [
      "(6, 8, 9, 10)\n",
      "7\n",
      "9.5\n",
      "test_mixed_types\n",
      "test_mixed_types\n",
      "9.5\n",
      "7\n"
     ]
    }
   ],
   "source": [
    "#3. Write a Python program to create a tuple with numbers and print one item.\n",
    "\n",
    "# Tuple with integers\n",
    "integer_tuple = (6, 8, 9, 10)\n",
    "#Printing all the elements in the tuple\n",
    "print(integer_tuple)\n",
    "\n",
    "# Printing the elements of the tuple with mixed data types using indexing\n",
    "tuple4 = (7, 9.5, \"test_mixed_types\")\n",
    "print(tuple4[0])\n",
    "print(tuple4[1])\n",
    "print(tuple4[2])\n",
    "\n",
    "# Printing the elements of the tuple using negative indexing\n",
    "print(tuple4[-1])\n",
    "print(tuple4[-2])\n",
    "print(tuple4[-3])   "
   ]
  },
  {
   "cell_type": "code",
   "execution_count": 18,
   "metadata": {},
   "outputs": [
    {
     "name": "stdout",
     "output_type": "stream",
     "text": [
      "7 9.5 test_mixed_types\n",
      "7\n",
      "9.5\n",
      "test_mixed_types\n"
     ]
    }
   ],
   "source": [
    "# 4. Write a Python program to unpack a tuple in several variables.\n",
    "\n",
    "# Unpack tuple in several variables\n",
    "tuple4 = (7, 9.5, \"test_mixed_types\")\n",
    "integer1, float1, string1 = tuple4[0], tuple4[1], tuple4[2]\n",
    "print(integer1, float1, string1)\n",
    "\n",
    "# Iterating through a tuple and unpacking it's elements\n",
    "tuple4 = (7, 9.5, \"test_mixed_types\")\n",
    "# iterating through the tuple\n",
    "for i in tuple4:\n",
    "     print(i)"
   ]
  },
  {
   "cell_type": "code",
   "execution_count": 21,
   "metadata": {},
   "outputs": [
    {
     "ename": "TypeError",
     "evalue": "'tuple' object does not support item assignment",
     "output_type": "error",
     "traceback": [
      "\u001b[1;31m---------------------------------------------------------------------------\u001b[0m",
      "\u001b[1;31mTypeError\u001b[0m                                 Traceback (most recent call last)",
      "Cell \u001b[1;32mIn[21], line 6\u001b[0m\n\u001b[0;32m      3\u001b[0m tuple5 \u001b[39m=\u001b[39m (\u001b[39m7\u001b[39m, \u001b[39m9.5\u001b[39m, \u001b[39m\"\u001b[39m\u001b[39mtest_add_element\u001b[39m\u001b[39m\"\u001b[39m)\n\u001b[0;32m      5\u001b[0m \u001b[39m# Type Error will be displayed saying ''tuple' object does not support item assignment'\u001b[39;00m\n\u001b[1;32m----> 6\u001b[0m tuple5[\u001b[39m3\u001b[39;49m] \u001b[39m=\u001b[39m \u001b[39m\"\u001b[39m\u001b[39mtest\u001b[39m\u001b[39m\"\u001b[39m\n\u001b[0;32m      7\u001b[0m \u001b[39mprint\u001b[39m(tuple5) \u001b[39m# Type Error will be displayed saying \" 'tuple' object does not support item assignment' \"\u001b[39;00m\n",
      "\u001b[1;31mTypeError\u001b[0m: 'tuple' object does not support item assignment"
     ]
    }
   ],
   "source": [
    "#5. Write a Python program to add an item in a tuple.\n",
    "\n",
    "tuple5 = (7, 9.5, \"test_add_element\")\n",
    "\n",
    "# Type Error will be displayed saying ''tuple' object does not support item assignment'\n",
    "tuple5[3] = \"test\"\n",
    "print(tuple5) # Type Error will be displayed saying \" 'tuple' object does not support item assignment' \""
   ]
  }
 ],
 "metadata": {
  "kernelspec": {
   "display_name": "Python 3",
   "language": "python",
   "name": "python3"
  },
  "language_info": {
   "codemirror_mode": {
    "name": "ipython",
    "version": 3
   },
   "file_extension": ".py",
   "mimetype": "text/x-python",
   "name": "python",
   "nbconvert_exporter": "python",
   "pygments_lexer": "ipython3",
   "version": "3.11.0"
  },
  "orig_nbformat": 4,
  "vscode": {
   "interpreter": {
    "hash": "61e0c81b3bee69d02fcfa24507984663a96db91b02ce28fc95689e165e33abaf"
   }
  }
 },
 "nbformat": 4,
 "nbformat_minor": 2
}
