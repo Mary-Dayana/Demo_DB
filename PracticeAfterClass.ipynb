{
 "cells": [
  {
   "cell_type": "code",
   "execution_count": 2,
   "metadata": {},
   "outputs": [
    {
     "name": "stdout",
     "output_type": "stream",
     "text": [
      "['ac', 'ad', 'bc', 'bd']\n"
     ]
    }
   ],
   "source": [
    "\n",
    "\n",
    "list1= [\"a\", \"b\"]\n",
    "list2=[\"c\",\"d\"]\n",
    "list3=[]\n",
    "for i in list1:\n",
    "    for j in list2:\n",
    "        list3.append(i+j)\n",
    "\n",
    "print(list3)\n"
   ]
  },
  {
   "cell_type": "code",
   "execution_count": 3,
   "metadata": {},
   "outputs": [
    {
     "name": "stdout",
     "output_type": "stream",
     "text": [
      "{1: ['a', 'd'], 2: ['b', 'd']}\n"
     ]
    }
   ],
   "source": [
    "list1= [\"a\", \"b\"]\n",
    "list2=[\"c\",\"d\"]\n",
    "dict={}\n",
    "count=1\n",
    "for i in list1:\n",
    "    for j in list2:\n",
    "        dict[count]=[i,j]\n",
    "    count+=1\n",
    "\n",
    "print(dict)\n"
   ]
  }
 ],
 "metadata": {
  "kernelspec": {
   "display_name": "Python 3",
   "language": "python",
   "name": "python3"
  },
  "language_info": {
   "codemirror_mode": {
    "name": "ipython",
    "version": 3
   },
   "file_extension": ".py",
   "mimetype": "text/x-python",
   "name": "python",
   "nbconvert_exporter": "python",
   "pygments_lexer": "ipython3",
   "version": "3.11.0 (main, Oct 24 2022, 18:26:48) [MSC v.1933 64 bit (AMD64)]"
  },
  "orig_nbformat": 4,
  "vscode": {
   "interpreter": {
    "hash": "61e0c81b3bee69d02fcfa24507984663a96db91b02ce28fc95689e165e33abaf"
   }
  }
 },
 "nbformat": 4,
 "nbformat_minor": 2
}
