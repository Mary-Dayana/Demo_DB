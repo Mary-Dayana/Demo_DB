{
 "cells": [
  {
   "cell_type": "code",
   "execution_count": 3,
   "metadata": {},
   "outputs": [],
   "source": [
    "import requests\n",
    "import json\n",
    "from pprint import pp"
   ]
  },
  {
   "cell_type": "code",
   "execution_count": 127,
   "metadata": {},
   "outputs": [],
   "source": [
    "#base_url =  \"https://hacker-news.firebaseio.com/v0/\"\n",
    "# iam accessing item\n",
    "url =  \"https://hacker-news.firebaseio.com/v0/item/\"\n",
    "end = \".json\"\n",
    "# get the max id using the url \"https://hacker-news.firebaseio.com/v0/maxitem.json?print=pretty\"\n",
    "max_id = 34329808\n",
    "# Sammi asked to get -20 id so we can access data\n",
    "#so max_id - 20 = 34329788\n",
    "#store in a variable\n",
    "id = 34329788\n",
    "full_data = []\n",
    "for id in range(34329788, max_id+1):\n",
    "    response = requests.get(url + str(id) + end)\n",
    "#print(response.status_code)\n",
    "# store the full_response in a varaiable 'r'\n",
    "    r = response.json()\n",
    "    full_data.append(r)\n",
    "#print(full_data)\n"
   ]
  },
  {
   "cell_type": "code",
   "execution_count": null,
   "metadata": {},
   "outputs": [],
   "source": [
    "#instead of hardcoding the range"
   ]
  },
  {
   "cell_type": "code",
   "execution_count": 4,
   "metadata": {},
   "outputs": [
    {
     "name": "stdout",
     "output_type": "stream",
     "text": [
      "[{'by': 'amf12',\n",
      "  'id': 34329788,\n",
      "  'parent': 34328279,\n",
      "  'text': '&gt; This is clearly due the cars going too fast and too close from '\n",
      "          'behind.<p>This is due to both - buggy software being tested on '\n",
      "          'public roads and people going too fast and driving close behind. '\n",
      "          'The first two collisions couldn&#x27;t have been avoided because of '\n",
      "          'how abrupt Tesla changed the lane and stopped, thats on Tesla.',\n",
      "  'time': 1673377444,\n",
      "  'type': 'comment'},\n",
      " {'by': 'bloppe',\n",
      "  'id': 34329789,\n",
      "  'parent': 34329576,\n",
      "  'text': 'People were locked into work long before there was an economy to '\n",
      "          'speak of. They were hunting, gathering, subsistence farming, '\n",
      "          'spending hours gathering materials and building things from dusk '\n",
      "          'till dawn. Even the poor are generally able to work much less than '\n",
      "          'the historical baseline.<p>I&#x27;m not saying the modern economy '\n",
      "          'is fair. It&#x27;s just easy to lose sight of the fact that it '\n",
      "          'inherently takes a lot of work to live.',\n",
      "  'time': 1673377451,\n",
      "  'type': 'comment'},\n",
      " {'by': 'threevox',\n",
      "  'id': 34329790,\n",
      "  'parent': 34326163,\n",
      "  'text': 'I interviewed with them recently, they&#x27;ve brought on lots of '\n",
      "          '(expensive) new MLE type employees to provide ML SaaS services. '\n",
      "          'Open-source might be putting pressure on them as these things '\n",
      "          'become more commoditized',\n",
      "  'time': 1673377453,\n",
      "  'type': 'comment'},\n",
      " {'by': 'throwaway5752',\n",
      "  'id': 34329791,\n",
      "  'parent': 34326773,\n",
      "  'text': 'Regarding Boeing, every person, and particularly every engineer, '\n",
      "          'should read <a '\n",
      "          'href=\"https:&#x2F;&#x2F;www.amazon.com&#x2F;Flying-Blind-Tragedy-Fall-Boeing&#x2F;dp&#x2F;0385546491\" '\n",
      "          'rel=\"nofollow\">https:&#x2F;&#x2F;www.amazon.com&#x2F;Flying-Blind-Tragedy-Fall-Boeing&#x2F;dp&#x2F;0...</a>',\n",
      "  'time': 1673377454,\n",
      "  'type': 'comment'},\n",
      " {'by': 'madsbuch',\n",
      "  'id': 34329792,\n",
      "  'parent': 34328643,\n",
      "  'text': 'The point is that we retried something that was previously deemed '\n",
      "          'infeasible. Had you been too much aware of the history, you might '\n",
      "          'not have done that.',\n",
      "  'time': 1673377463,\n",
      "  'type': 'comment'},\n",
      " {'by': 'nerdponx',\n",
      "  'id': 34329793,\n",
      "  'kids': [34334666, 34338394],\n",
      "  'parent': 34327793,\n",
      "  'text': 'Consider that &quot;not contributing to the de-personification and '\n",
      "          'cultural erasure of indigenous Americans&quot; is inherently a '\n",
      "          'benefit and should be part of the ROI calculation.',\n",
      "  'time': 1673377466,\n",
      "  'type': 'comment'},\n",
      " {'by': 'lygten',\n",
      "  'descendants': 0,\n",
      "  'id': 34329794,\n",
      "  'score': 2,\n",
      "  'time': 1673377467,\n",
      "  'title': 'Ask HN: Can anybody recommend a lite CI for the CLI (Linux)?',\n",
      "  'type': 'story'},\n",
      " {'by': 'bombcar',\n",
      "  'id': 34329795,\n",
      "  'parent': 34329547,\n",
      "  'text': 'There are definite cases of corporate looting by the bean counters, '\n",
      "          'but there are certainly cases where a moribund company was saved by '\n",
      "          'the counters of beans (and of course, some where the malaise was so '\n",
      "          'deep nothing could have saved it).',\n",
      "  'time': 1673377472,\n",
      "  'type': 'comment'},\n",
      " {'by': 'highwaylights',\n",
      "  'id': 34329796,\n",
      "  'parent': 34308895,\n",
      "  'text': 'This aged like milk.',\n",
      "  'time': 1673377473,\n",
      "  'type': 'comment'},\n",
      " {'by': 'jason_slack',\n",
      "  'id': 34329797,\n",
      "  'kids': [34331264],\n",
      "  'parent': 34329626,\n",
      "  'text': 'I was on ADHD medications for 2 years and stopped this past July. I '\n",
      "          'felt like the medications kept me withdrawn and my spouse said I '\n",
      "          'wasn&#x27;t the same person. Also, they didn&#x27;t seem to help '\n",
      "          'even on a large dose of Vyvanse.',\n",
      "  'time': 1673377476,\n",
      "  'type': 'comment'},\n",
      " {'by': 'eddsh1994',\n",
      "  'id': 34329798,\n",
      "  'kids': [34330087, 34330182, 34329896],\n",
      "  'parent': 34329756,\n",
      "  'text': 'If it’s essential it could last decades, greater than the career '\n",
      "          'length of a developer. What happens then?',\n",
      "  'time': 1673377478,\n",
      "  'type': 'comment'},\n",
      " {'by': 'shagie',\n",
      "  'id': 34329799,\n",
      "  'kids': [34330778],\n",
      "  'parent': 34327350,\n",
      "  'text': 'It is on the front page now.  The algorithms of HN appear to '\n",
      "          'downrank some topics that appear too frequently until they get '\n",
      "          'sufficient positive engagement to avoid filling up the front page '\n",
      "          'with just one thing (which gets boring).',\n",
      "  'time': 1673377479,\n",
      "  'type': 'comment'},\n",
      " {'by': 'peapicker',\n",
      "  'id': 34329800,\n",
      "  'parent': 34326714,\n",
      "  'text': 'Germany is huge in Digital Audio Workstation software. Ableton '\n",
      "          'Live, Bitwig, Steinberg (Cubase and creator of VST plugin format), '\n",
      "          'Native Instruments, Celemony (Melodyne=autotune), and the former '\n",
      "          'EMagic, whom Apple bought to make Logic Pro. Also plugin makers '\n",
      "          'U-He, Synapse Audio, zPlane. Probably more that I’ve missed.',\n",
      "  'time': 1673377480,\n",
      "  'type': 'comment'},\n",
      " {'by': 'null_object',\n",
      "  'id': 34329801,\n",
      "  'parent': 34328692,\n",
      "  'text': 'Article: <i>boring</i>.\\n'\n",
      "          'Image of Philippe Petit wire walking between the Twin Towers: '\n",
      "          '<i>amazing</i>.',\n",
      "  'time': 1673377480,\n",
      "  'type': 'comment'},\n",
      " {'by': 'rebolek',\n",
      "  'id': 34329802,\n",
      "  'parent': 34329469,\n",
      "  'text': 'AI is Artificial Ignorance.',\n",
      "  'time': 1673377483,\n",
      "  'type': 'comment'},\n",
      " {'by': 'allknowingfrog',\n",
      "  'id': 34329803,\n",
      "  'parent': 34329532,\n",
      "  'text': 'I have this exact regret. Code may be meaningless, but acronyms are '\n",
      "          'both meaningless and confusable.',\n",
      "  'time': 1673377496,\n",
      "  'type': 'comment'},\n",
      " {'by': 'reichardt',\n",
      "  'id': 34329804,\n",
      "  'kids': [34329842],\n",
      "  'parent': 34328580,\n",
      "  'text': 'I recently looked into this as well. Specifically how the two '\n",
      "          'formats differ. As it stands right now the “Feather” file format '\n",
      "          'seems to be a synonym for the Arrow IPC file format or “Arrow '\n",
      "          'files” [0]. There should be basically no overhead while reading '\n",
      "          'into the arrow memory format [1]. Parquet files on the other hand '\n",
      "          'are stored in a different format and therefore occur some overhead '\n",
      "          'while reading into memory but offer more advanced mechanism for on '\n",
      "          'disk encoding and compression [1].<p>As far as I can tell the main '\n",
      "          'trade-off seems to be around deserialization overhead vs on disk '\n",
      "          'file size. If anyone has more information or experience with the '\n",
      "          'topic I&#x27;d love to hear!<p>[0] <a '\n",
      "          'href=\"https:&#x2F;&#x2F;arrow.apache.org&#x2F;faq&#x2F;#what-about-the-feather-file-format\" '\n",
      "          'rel=\"nofollow\">https:&#x2F;&#x2F;arrow.apache.org&#x2F;faq&#x2F;#what-about-the-feather-file-fo...</a>\\n'\n",
      "          '[1] <a '\n",
      "          'href=\"https:&#x2F;&#x2F;arrow.apache.org&#x2F;faq&#x2F;#what-is-the-difference-between-apache-arrow-and-apache-parquet\" '\n",
      "          'rel=\"nofollow\">https:&#x2F;&#x2F;arrow.apache.org&#x2F;faq&#x2F;#what-is-the-difference-between...</a><p>EDIT:<p>More '\n",
      "          'information: <a '\n",
      "          'href=\"https:&#x2F;&#x2F;news.ycombinator.com&#x2F;item?id=34324649\" '\n",
      "          'rel=\"nofollow\">https:&#x2F;&#x2F;news.ycombinator.com&#x2F;item?id=34324649</a>',\n",
      "  'time': 1673377501,\n",
      "  'type': 'comment'},\n",
      " {'by': 'michaelbuckbee',\n",
      "  'id': 34329805,\n",
      "  'kids': [34334388],\n",
      "  'parent': 34329382,\n",
      "  'text': 'Thank you! The Tidbyt looks like the more approachable of the two. '\n",
      "          'Less than $200 vs $3k for the Vestaboard and a it has a '\n",
      "          'purposefully simplified Python like dev lang to pull data and shove '\n",
      "          'it into widgets.',\n",
      "  'time': 1673377506,\n",
      "  'type': 'comment'},\n",
      " {'by': 'astrange',\n",
      "  'id': 34329806,\n",
      "  'parent': 34321643,\n",
      "  'text': 'Buying anything in Japan (even an MS Office license) is at least '\n",
      "          'more likely to require going out drinking with salespeople rather '\n",
      "          'than just visiting a website.',\n",
      "  'time': 1673377512,\n",
      "  'type': 'comment'},\n",
      " {'by': 'abrax3141',\n",
      "  'id': 34329807,\n",
      "  'parent': 34305518,\n",
      "  'text': 'Okay, so holy f&#x27;ing s#!t!<p>Out of curiosity, I today asked it '\n",
      "          'to program the ELIZA in MAD-SLIP, the original (and now completely '\n",
      "          'dead and obscure) language that ELIZA was originally written in. My '\n",
      "          'expectation was that it would have no idea what MAD-SLIP is, or '\n",
      "          'maybe would barely have an idea, and in any case would have no '\n",
      "          'chance of doing what I asked and that it would, very reasonably, '\n",
      "          'balk.<p>Instead, to my shock it made up a completely bogus meaning '\n",
      "          'for the acronym: &quot;Matched Activated Decomposition by Syntactic '\n",
      "          'and Lexical Interchange Program&quot;, and actually wrote an ELIZA '\n",
      "          'in this non-existing language, which was in reality just Python '\n",
      "          'code using the rexexp (re) package, and was perfectly fine as far '\n",
      "          'as it went.<p>Even scarier than confabulating a non-exisistent '\n",
      "          'programming language, it confabulated a citation for it, claiming '\n",
      "          'that it is described in Weizenbaum&#x27;s Computer Power and Human '\n",
      "          'Reason, which is utterly false!<p>Sigh. I fear that ChatGPT is '\n",
      "          'merely bringing Weizenbaum&#x27;s worst fears into reality! A '\n",
      "          'seemingly authoritative AI that simply makes s#!t up! I&#x27;m '\n",
      "          'feeling a bit like taking up arms at the moment.',\n",
      "  'time': 1673377514,\n",
      "  'type': 'comment'}]\n"
     ]
    }
   ],
   "source": [
    "url =  \"https://hacker-news.firebaseio.com/v0/item/\"\n",
    "end = \".json\"\n",
    "max_id = 34329808\n",
    "full_data = []\n",
    "for id in range(max_id-20, max_id):\n",
    "    #print(id)\n",
    "    response = requests.get(url + str(id) + end)\n",
    "    r = response.json()\n",
    "    full_data.append(r)\n",
    "pp(full_data)"
   ]
  },
  {
   "cell_type": "code",
   "execution_count": 5,
   "metadata": {},
   "outputs": [
    {
     "data": {
      "text/plain": [
       "[{'by': 'bloppe',\n",
       "  'id': 34329789,\n",
       "  'parent': 34329576,\n",
       "  'text': 'People were locked into work long before there was an economy to speak of. They were hunting, gathering, subsistence farming, spending hours gathering materials and building things from dusk till dawn. Even the poor are generally able to work much less than the historical baseline.<p>I&#x27;m not saying the modern economy is fair. It&#x27;s just easy to lose sight of the fact that it inherently takes a lot of work to live.',\n",
       "  'time': 1673377451,\n",
       "  'type': 'comment'}]"
      ]
     },
     "execution_count": 5,
     "metadata": {},
     "output_type": "execute_result"
    }
   ],
   "source": [
    "# 2. Write a function to display all the items written by a certain user\n",
    "\n",
    "#we are using the full_data as clean data ... we are using the same data\n",
    "\n",
    "# def items_user():\n",
    "#     itemsby_user = []\n",
    "#     for i in full_data:\n",
    "\n",
    "#         itemsby_user.append(i['by'])\n",
    "#     return itemsby_user\n",
    "    \n",
    "#items_user()\n",
    "\n",
    "\n",
    "# 2. Write a function to display all the items written by a certain user\n",
    "\n",
    "# for particula user\n",
    "#we are using the full_data as clean data ... we are using the same data\n",
    "def items_user(username):\n",
    "    itemsby_user = []\n",
    "    for i in full_data:\n",
    "        if i['by'] == username:\n",
    "            itemsby_user.append(i)\n",
    "    return itemsby_user\n",
    "items_user('bloppe')"
   ]
  },
  {
   "cell_type": "code",
   "execution_count": 49,
   "metadata": {},
   "outputs": [
    {
     "name": "stdout",
     "output_type": "stream",
     "text": [
      "[2]\n"
     ]
    },
    {
     "data": {
      "text/plain": [
       "2.0"
      ]
     },
     "execution_count": 49,
     "metadata": {},
     "output_type": "execute_result"
    }
   ],
   "source": [
    "# 3. Write a function to display the average score of all items\n",
    "\n",
    "def avg_score():\n",
    "    score_list = []\n",
    "    key = 'score'\n",
    "    for s in full_data:\n",
    "        if key in s.keys():  # making sure the key is present\n",
    "            score_list.append(s['score'])\n",
    "    print(score_list)\n",
    "    \n",
    "    avg_score = sum(score_list)/len(score_list)\n",
    "    return avg_score\n",
    "\n",
    "avg_score()"
   ]
  },
  {
   "cell_type": "code",
   "execution_count": 57,
   "metadata": {},
   "outputs": [
    {
     "name": "stdout",
     "output_type": "stream",
     "text": [
      "[2]\n",
      "['lygten']\n"
     ]
    },
    {
     "data": {
      "text/plain": [
       "2.0"
      ]
     },
     "execution_count": 57,
     "metadata": {},
     "output_type": "execute_result"
    }
   ],
   "source": [
    "# 4. Write a function to display the average score of the items by a certain user\n",
    "#FIRST I WANT TO KNOW WHICH USER HAS \"SCORE\" KEY\n",
    "# i know from above problem that i have 'score' for only 1 user\n",
    "# i want to see the user\n",
    "\n",
    "def avg_score(user):\n",
    "    score_list = []\n",
    "    username_score = []\n",
    "    key = 'score'\n",
    "    for s in full_data:\n",
    "        if key in s.keys():  # making sure the key is present\n",
    "            score_list.append(s['score'])\n",
    "            username_score.append(s['by'])\n",
    "    print(score_list)\n",
    "    print(username_score)\n",
    "    \n",
    "    #avg_score = sum(score_list)/len(score_list)\n",
    "    #return avg_score\n",
    "\n",
    "avg_score('bloppe')"
   ]
  },
  {
   "cell_type": "code",
   "execution_count": 66,
   "metadata": {},
   "outputs": [
    {
     "name": "stdout",
     "output_type": "stream",
     "text": [
      "[2]\n"
     ]
    }
   ],
   "source": [
    "# 4. Write a function to display the average score of the items by a certain user\n",
    "\n",
    "# i know from above problem that i have 'score' for only 1 user i.e 'lygten'\n",
    "# i want to see the avg_score for that particula user whose has 'score' key\n",
    "#ANS: [2]\n",
    "\n",
    "def avg_score(user):\n",
    "    score_list = []\n",
    "    key = 'score'\n",
    "    for s in full_data:\n",
    "        if key in s.keys():  # making sure the key is present\n",
    "            if s['by'] == user:\n",
    "                score_list.append(s['score'])\n",
    "            print(score_list)\n",
    "     \n",
    "\n",
    "avg_score('lygten')"
   ]
  },
  {
   "cell_type": "code",
   "execution_count": 67,
   "metadata": {},
   "outputs": [
    {
     "name": "stdout",
     "output_type": "stream",
     "text": [
      "[]\n"
     ]
    }
   ],
   "source": [
    "# 4. Write a function to display the average score of the items by a certain user\n",
    "\n",
    "# by above problem i know that only 'lygten' has score key\n",
    "#check with username other than 'lygten'\n",
    "# ANS [] empty list\n",
    "def avg_score(user):\n",
    "    score_list = []\n",
    "    key = 'score'\n",
    "    for s in full_data:\n",
    "        if key in s.keys():  # making sure the key is present\n",
    "            if s['by'] == user:\n",
    "                score_list.append(s['score'])\n",
    "            print(score_list)\n",
    "     \n",
    "\n",
    "\n",
    "avg_score('bloppe')"
   ]
  },
  {
   "cell_type": "code",
   "execution_count": null,
   "metadata": {},
   "outputs": [],
   "source": [
    "# 4. TRY with catch and error block\n",
    "\n"
   ]
  },
  {
   "cell_type": "code",
   "execution_count": 162,
   "metadata": {},
   "outputs": [
    {
     "name": "stdout",
     "output_type": "stream",
     "text": [
      "[{'username': 'jojobas', 'comment': 'You must be thinking about this one.\\n<a href=\"https:&#x2F;&#x2F;izbrannoe.com&#x2F;upload&#x2F;sotbit.htmleditoraddition&#x2F;bed&#x2F;bed7f3f44471adf1259d32832a7560e2.jpg\" rel=\"nofollow\">https:&#x2F;&#x2F;izbrannoe.com&#x2F;upload&#x2F;sotbit.htmleditoraddition&#x2F;bed&#x2F;b...</a><p>Trotsky was indeed deleted from a couple of pics, but they are much more obscure.'}, {'username': 'alexander0042', 'comment': 'As the dev who set up the Pirate Weather source, I couldn&#x27;t agree more. 90% of the challenge here was getting the grib files into a format I could quickly and easily access, since the provided format is about as difficult as it gets. I don&#x27;t pretend to know more about the actual art of forecasting than NOAA, but wanted a better way to get the data they produce out there'}]\n"
     ]
    }
   ],
   "source": [
    "#5. Write a function to display all of the comments of an item(this is a more challenging task)\n",
    "# get differemt max_id\n",
    "max_id = 34334393\n",
    "full_data = []\n",
    "for id in range(max_id-2, max_id):\n",
    "    #print(id)\n",
    "    response = requests.get(url + str(id) + end)\n",
    "    r = response.json()\n",
    "    full_data.append(r)\n",
    "#pp(full_data)\n",
    "def get_comments():\n",
    "    list_comments = []\n",
    "    key = 'text'\n",
    "    for comment in full_data:\n",
    "        if key in comment.keys():\n",
    "            char = {'username':comment['by'], 'comment':comment['text']}\n",
    "            list_comments.append(char)\n",
    "    print(list_comments)\n",
    "\n",
    "get_comments()"
   ]
  },
  {
   "cell_type": "code",
   "execution_count": 121,
   "metadata": {},
   "outputs": [
    {
     "name": "stdout",
     "output_type": "stream",
     "text": [
      "[1673377444, 1673377451, 1673377453, 1673377454, 1673377463, 1673377466, 1673377467, 1673377472, 1673377473, 1673377476, 1673377478, 1673377479, 1673377480, 1673377480, 1673377483, 1673377496, 1673377501, 1673377506, 1673377512, 1673377514]\n"
     ]
    },
    {
     "ename": "TypeError",
     "evalue": "'list' object cannot be interpreted as an integer",
     "output_type": "error",
     "traceback": [
      "\u001b[1;31m---------------------------------------------------------------------------\u001b[0m",
      "\u001b[1;31mTypeError\u001b[0m                                 Traceback (most recent call last)",
      "Cell \u001b[1;32mIn[121], line 26\u001b[0m\n\u001b[0;32m     22\u001b[0m             \u001b[39mprint\u001b[39m(date_From_Timestamp)\n\u001b[0;32m     23\u001b[0m     \u001b[39m# time_stamp = []\u001b[39;00m\n\u001b[0;32m     24\u001b[0m     \u001b[39m# for tstamp in items_year:\u001b[39;00m\n\u001b[0;32m     25\u001b[0m     \u001b[39m#     time_stamp.append(ts)\u001b[39;00m\n\u001b[1;32m---> 26\u001b[0m display_items(\u001b[39m2011\u001b[39;49m)\n",
      "Cell \u001b[1;32mIn[121], line 17\u001b[0m, in \u001b[0;36mdisplay_items\u001b[1;34m(year)\u001b[0m\n\u001b[0;32m     14\u001b[0m Timestamp \u001b[39m=\u001b[39m []\n\u001b[0;32m     15\u001b[0m \u001b[39mfor\u001b[39;00m tstamp \u001b[39min\u001b[39;00m items_year:\n\u001b[0;32m     16\u001b[0m     \u001b[39m#print(tstamp)\u001b[39;00m\n\u001b[1;32m---> 17\u001b[0m     date_From_Timestamp \u001b[39m=\u001b[39m datetime\u001b[39m.\u001b[39;49mdate\u001b[39m.\u001b[39;49mfromtimestamp(Timestamp)\n\u001b[0;32m     18\u001b[0m     \u001b[39mif\u001b[39;00m tstamp[Timestamp]\u001b[39m.\u001b[39misnumeric():\n\u001b[0;32m     19\u001b[0m         Timestamp\u001b[39m.\u001b[39mappend(\u001b[39mint\u001b[39m(i(tstamp)))\n",
      "\u001b[1;31mTypeError\u001b[0m: 'list' object cannot be interpreted as an integer"
     ]
    }
   ],
   "source": [
    "# 6. Write a function to display all of the items created in a certain year. \n",
    "# You can expand on this to add additional parameters: Month, Day, etc. Any combo you choose or any single value\n",
    "\n",
    "# i see there is a parameter key:time in the API \"time\": 1442592497\n",
    "import datetime\n",
    "import time\n",
    "def display_items(year):\n",
    "    items_year = []\n",
    "    key = 'time'\n",
    "    for i in full_data:\n",
    "        if key in i.keys():  # making sure the key is present\n",
    "           items_year.append(i['time'])\n",
    "    print(items_year)\n",
    "    Timestamp = []\n",
    "    for tstamp in items_year:\n",
    "        #print(tstamp)\n",
    "        date_From_Timestamp = datetime.date.fromtimestamp(Timestamp)\n",
    "        if tstamp[Timestamp].isnumeric():\n",
    "            Timestamp.append(int(i(tstamp)))\n",
    "            \n",
    "            \n",
    "            print(date_From_Timestamp)\n",
    "    # time_stamp = []\n",
    "    # for tstamp in items_year:\n",
    "    #     time_stamp.append(ts)\n",
    "display_items(2011)\n"
   ]
  },
  {
   "cell_type": "code",
   "execution_count": 182,
   "metadata": {},
   "outputs": [
    {
     "name": "stdout",
     "output_type": "stream",
     "text": [
      "2018-06-15 18:12:45.000015+00:00\n",
      "1529086365.000015\n",
      "2018-06-15 18:12:45.000015\n",
      "2018-06-15 18:12:45.000015+00:00\n"
     ]
    },
    {
     "ename": "AttributeError",
     "evalue": "'method_descriptor' object has no attribute 'fromtimestamp'",
     "output_type": "error",
     "traceback": [
      "\u001b[1;31m---------------------------------------------------------------------------\u001b[0m",
      "\u001b[1;31mAttributeError\u001b[0m                            Traceback (most recent call last)",
      "Cell \u001b[1;32mIn[182], line 26\u001b[0m\n\u001b[0;32m     22\u001b[0m Timestamp \u001b[39m=\u001b[39m \u001b[39m1323456464\u001b[39m\n\u001b[0;32m     24\u001b[0m \u001b[39m# Calling the fromtimestamp() function\u001b[39;00m\n\u001b[0;32m     25\u001b[0m \u001b[39m# over the above specified Timestamp\u001b[39;00m\n\u001b[1;32m---> 26\u001b[0m date_From_Timestamp \u001b[39m=\u001b[39m datetime\u001b[39m.\u001b[39;49mdate\u001b[39m.\u001b[39;49mfromtimestamp(Timestamp)\n\u001b[0;32m     28\u001b[0m \u001b[39m# Printing the date\u001b[39;00m\n\u001b[0;32m     29\u001b[0m \u001b[39mprint\u001b[39m(\u001b[39m\"\u001b[39m\u001b[39mDate for the Timestamp is: \u001b[39m\u001b[39m%s\u001b[39;00m\u001b[39m\"\u001b[39m\u001b[39m%\u001b[39mdate_From_Timestamp)\n",
      "\u001b[1;31mAttributeError\u001b[0m: 'method_descriptor' object has no attribute 'fromtimestamp'"
     ]
    }
   ],
   "source": [
    "from datetime import datetime\n",
    "import pytz\n",
    "\n",
    "timezone = pytz.timezone('UTC')\n",
    "# Initializing a timestamp value\n",
    "sample_date = datetime(2018, 6, 15, 18, 12, 45, 15, tzinfo=timezone)\n",
    "print(sample_date)\n",
    "# 2018-06-15 18:12:45.000015+00:00\n",
    "\n",
    "ts = sample_date.timestamp()\n",
    "print(ts) \n",
    "# 1529086365.000015\n",
    "dt = datetime.utcfromtimestamp(ts)\n",
    "print(dt)\n",
    "# 2018-06-15 18:12:45.000015\n",
    "dt2 = datetime.fromtimestamp(ts, tz=timezone)\n",
    "print(dt2)\n",
    "# 2018-06-15 18:12:45.000015+00:00\n",
    "\n",
    "#10 digit number to time is unix time stamp\n",
    "# Initializing a timestamp value\n",
    "Timestamp = 1323456464\n",
    "  \n",
    "# Calling the fromtimestamp() function\n",
    "# over the above specified Timestamp\n",
    "date_From_Timestamp = datetime.date.fromtimestamp(Timestamp)\n",
    "  \n",
    "# Printing the date\n",
    "print(\"Date for the Timestamp is: %s\"%date_From_Timestamp)"
   ]
  },
  {
   "cell_type": "code",
   "execution_count": 7,
   "metadata": {},
   "outputs": [
    {
     "name": "stdout",
     "output_type": "stream",
     "text": [
      "[34334373, 34334374, 34334375, 34334376, 34334377, 34334378, 34334379, 34334380, 34334381, 34334382, 34334383, 34334384, 34334385, 34334386, 34334387, 34334388, 34334389, 34334390, 34334391, 34334392]\n",
      "0\n"
     ]
    }
   ],
   "source": [
    "#7.Write a function to display the total number of deleted items.\n",
    "\n",
    "# def get_deleted_items():\n",
    "#     del_list = []\n",
    "#     key = 'deleted'\n",
    "#     for d in full_data:\n",
    "#         for key in d.keys():\n",
    "#             del_list.append(d['deleted'])\n",
    "#     print(del_list)\n",
    "\n",
    "# get_deleted_items()\n",
    "\n",
    "# get differemt max_id\n",
    "max_id = 34334393\n",
    "full_data = []\n",
    "for id in range(max_id-20, max_id):\n",
    "    #print(id)\n",
    "    response = requests.get(url + str(id) + end)\n",
    "    r = response.json()\n",
    "    full_data.append(r)\n",
    "#pp(full_data)\n",
    "\n",
    "def get_id():\n",
    "    key = 'id'\n",
    "    id_list = []\n",
    "    for id in full_data:\n",
    "        if key in id.keys():\n",
    "            id_list.append(id['id'])\n",
    "    print(id_list)\n",
    "\n",
    "get_id()\n",
    "\n",
    "def get_deleted_items():\n",
    "    del_list = []\n",
    "    value = 'deleted'\n",
    "    for d in full_data:\n",
    "        #print(d)\n",
    "        if value in d.values():\n",
    "            #print(key1)\n",
    "            if d['deleted'] ==  34334373:\n",
    "                del_list.append(d['deleted'])\n",
    "    print(len(del_list))\n",
    "\n",
    "get_deleted_items()"
   ]
  },
  {
   "cell_type": "code",
   "execution_count": 6,
   "metadata": {},
   "outputs": [
    {
     "data": {
      "text/plain": [
       "0"
      ]
     },
     "execution_count": 6,
     "metadata": {},
     "output_type": "execute_result"
    }
   ],
   "source": [
    "def delete_item():\n",
    "    delete_item=[]\n",
    "    key='deleted'\n",
    "    for delitem in full_data:\n",
    "        if key in delitem.keys():\n",
    "            delete_item.append(delitem['deleted'])\n",
    "\n",
    "    return len(delete_item)\n",
    "\n",
    "delete_item()"
   ]
  },
  {
   "cell_type": "code",
   "execution_count": null,
   "metadata": {},
   "outputs": [],
   "source": [
    "#8. Write a function to display the total number of live items.\n",
    "\n",
    "max_id = 34334393\n",
    "full_data = []\n",
    "for id in range(max_id-20, max_id):\n",
    "    #print(id)\n",
    "    response = requests.get(url + str(id) + end)\n",
    "    r = response.json()\n",
    "    full_data.append(r)\n",
    "#pp(full_data)\n",
    "def get_total_liveitems():\n",
    "    live_list = []\n",
    "    "
   ]
  },
  {
   "cell_type": "code",
   "execution_count": 8,
   "metadata": {},
   "outputs": [
    {
     "data": {
      "text/plain": [
       "1"
      ]
     },
     "execution_count": 8,
     "metadata": {},
     "output_type": "execute_result"
    }
   ],
   "source": [
    "#9. ..Write a function to display the total number of deleted items without any comments\n",
    "\n",
    "def delete_nocmnt():\n",
    "    delete_nocmnt=[]\n",
    "    key='deleted'\n",
    "    for i in full_data:\n",
    "        if key in i:\n",
    "            try:\n",
    "                if i['type']=='comment':\n",
    "                    delete_nocmnt.append(i['deleted'])\n",
    "            except:\n",
    "                pass\n",
    "    return len(delete_nocmnt)\n",
    "delete_nocmnt()"
   ]
  },
  {
   "cell_type": "code",
   "execution_count": 9,
   "metadata": {},
   "outputs": [
    {
     "ename": "ValueError",
     "evalue": "max() arg is an empty sequence",
     "output_type": "error",
     "traceback": [
      "\u001b[1;31m---------------------------------------------------------------------------\u001b[0m",
      "\u001b[1;31mValueError\u001b[0m                                Traceback (most recent call last)",
      "Cell \u001b[1;32mIn[9], line 17\u001b[0m\n\u001b[0;32m     15\u001b[0m                 mostcmnt_item\u001b[39m.\u001b[39mappend(i)\n\u001b[0;32m     16\u001b[0m     \u001b[39mreturn\u001b[39;00m mostcmnt_item\n\u001b[1;32m---> 17\u001b[0m most_cmnt()\n",
      "Cell \u001b[1;32mIn[9], line 11\u001b[0m, in \u001b[0;36mmost_cmnt\u001b[1;34m()\u001b[0m\n\u001b[0;32m      8\u001b[0m     \u001b[39mif\u001b[39;00m key \u001b[39min\u001b[39;00m i:\n\u001b[0;32m     10\u001b[0m         comments\u001b[39m.\u001b[39mappend(\u001b[39mint\u001b[39m(i[\u001b[39m'\u001b[39m\u001b[39mdescendants\u001b[39m\u001b[39m'\u001b[39m]))\n\u001b[1;32m---> 11\u001b[0m most_comment\u001b[39m=\u001b[39m\u001b[39mmax\u001b[39;49m(comments)\n\u001b[0;32m     12\u001b[0m \u001b[39mfor\u001b[39;00m i \u001b[39min\u001b[39;00m full_data:\n\u001b[0;32m     13\u001b[0m     \u001b[39mif\u001b[39;00m key \u001b[39min\u001b[39;00m i:\n",
      "\u001b[1;31mValueError\u001b[0m: max() arg is an empty sequence"
     ]
    }
   ],
   "source": [
    "# 10. Write a function to find which item has the most total comments\n",
    "\n",
    "def most_cmnt():\n",
    "    comments=[]\n",
    "    mostcmnt_item=[]\n",
    "    key='descendants'\n",
    "    for i in full_data:\n",
    "        if key in i:\n",
    "\n",
    "            comments.append(int(i['descendants']))\n",
    "    most_comment=max(comments)\n",
    "    for i in full_data:\n",
    "        if key in i:\n",
    "            if(int(i['descendants'])==most_comment):\n",
    "                mostcmnt_item.append(i)\n",
    "    return mostcmnt_item\n",
    "most_cmnt()"
   ]
  },
  {
   "cell_type": "code",
   "execution_count": 12,
   "metadata": {},
   "outputs": [
    {
     "ename": "ValueError",
     "evalue": "max() arg is an empty sequence",
     "output_type": "error",
     "traceback": [
      "\u001b[1;31m---------------------------------------------------------------------------\u001b[0m",
      "\u001b[1;31mValueError\u001b[0m                                Traceback (most recent call last)",
      "Cell \u001b[1;32mIn[12], line 18\u001b[0m\n\u001b[0;32m     16\u001b[0m                     mostcmnt_item\u001b[39m.\u001b[39mappend(i[\u001b[39m'\u001b[39m\u001b[39mby\u001b[39m\u001b[39m'\u001b[39m])\n\u001b[0;32m     17\u001b[0m     \u001b[39mreturn\u001b[39;00m mostcmnt_item\n\u001b[1;32m---> 18\u001b[0m mostuser_cmnt()\n",
      "Cell \u001b[1;32mIn[12], line 11\u001b[0m, in \u001b[0;36mmostuser_cmnt\u001b[1;34m()\u001b[0m\n\u001b[0;32m      8\u001b[0m     \u001b[39mif\u001b[39;00m key \u001b[39min\u001b[39;00m i:\n\u001b[0;32m     10\u001b[0m         comments\u001b[39m.\u001b[39mappend(\u001b[39mint\u001b[39m(i[\u001b[39m'\u001b[39m\u001b[39mdescendants\u001b[39m\u001b[39m'\u001b[39m]))\n\u001b[1;32m---> 11\u001b[0m most_comment\u001b[39m=\u001b[39m\u001b[39mmax\u001b[39;49m(comments)\n\u001b[0;32m     12\u001b[0m \u001b[39mfor\u001b[39;00m i \u001b[39min\u001b[39;00m full_data:\n\u001b[0;32m     13\u001b[0m     \u001b[39mif\u001b[39;00m key \u001b[39min\u001b[39;00m i:\n",
      "\u001b[1;31mValueError\u001b[0m: max() arg is an empty sequence"
     ]
    }
   ],
   "source": [
    "# 11. Write a function to find which user made the most comments\n",
    "\n",
    "def mostuser_cmnt():\n",
    "    comments=[]\n",
    "    mostcmnt_item=[]\n",
    "    key='descendants'\n",
    "    for i in full_data:\n",
    "        if key in i:\n",
    "            comments.append(int(i['descendants']))\n",
    "    most_comment=max(comments)\n",
    "    for i in full_data:\n",
    "        if key in i:\n",
    "            if(int(i['descendants'])==most_comment):\n",
    "                if 'by' in i:\n",
    "                    mostcmnt_item.append(i['by'])\n",
    "    return mostcmnt_item\n",
    "mostuser_cmnt()"
   ]
  }
 ],
 "metadata": {
  "kernelspec": {
   "display_name": "Python 3",
   "language": "python",
   "name": "python3"
  },
  "language_info": {
   "codemirror_mode": {
    "name": "ipython",
    "version": 3
   },
   "file_extension": ".py",
   "mimetype": "text/x-python",
   "name": "python",
   "nbconvert_exporter": "python",
   "pygments_lexer": "ipython3",
   "version": "3.11.0"
  },
  "orig_nbformat": 4,
  "vscode": {
   "interpreter": {
    "hash": "61e0c81b3bee69d02fcfa24507984663a96db91b02ce28fc95689e165e33abaf"
   }
  }
 },
 "nbformat": 4,
 "nbformat_minor": 2
}
