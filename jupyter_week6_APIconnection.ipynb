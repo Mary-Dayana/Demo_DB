{
 "cells": [
  {
   "cell_type": "code",
   "execution_count": 9,
   "metadata": {},
   "outputs": [],
   "source": [
    "import mysql.connector as mariadb\n",
    "\n",
    "\n"
   ]
  },
  {
   "attachments": {},
   "cell_type": "markdown",
   "metadata": {},
   "source": [
    "open the database connection using the connect method.\n",
    "since we are opening something ..... what else we need to do?\n",
    "*hint : close\n",
    "we are using the print statement as a remainder "
   ]
  },
  {
   "cell_type": "code",
   "execution_count": 11,
   "metadata": {},
   "outputs": [
    {
     "name": "stdout",
     "output_type": "stream",
     "text": [
      "connecting to MariaDB Dtabase...\n"
     ]
    }
   ],
   "source": [
    "con = mariadb.connect(\n",
    "            host=\"LocaLhost\",\n",
    "            user=\"root\",\n",
    "            password= \"password\",\n",
    "            database=\"classicmodels\"\n",
    ")\n",
    "\n",
    "print (\"connecting to MariaDB Dtabase...\")\n"
   ]
  },
  {
   "cell_type": "markdown",
   "metadata": {},
   "source": []
  },
  {
   "cell_type": "code",
   "execution_count": 6,
   "metadata": {},
   "outputs": [],
   "source": [
    "cur = con.cursor()\n",
    "\n",
    "st = \"SELECT ProductLine, COUNT(*) \\\n",
    "      from products \\\n",
    "      WHERE productLine = '{}'\"\n",
    "\n",
    "cur.execute(st.format('Motorcycles'))   \n",
    "\n"
   ]
  },
  {
   "cell_type": "code",
   "execution_count": 4,
   "metadata": {},
   "outputs": [
    {
     "name": "stdout",
     "output_type": "stream",
     "text": [
      "[('Motorcycles', 13)]\n"
     ]
    }
   ],
   "source": [
    "result = cur.fetchall()\n",
    "print (result)\n",
    "\n"
   ]
  },
  {
   "cell_type": "code",
   "execution_count": 22,
   "metadata": {},
   "outputs": [],
   "source": [
    "con.close()"
   ]
  },
  {
   "attachments": {},
   "cell_type": "markdown",
   "metadata": {},
   "source": [
    "Create test db "
   ]
  },
  {
   "cell_type": "code",
   "execution_count": 12,
   "metadata": {},
   "outputs": [
    {
     "name": "stdout",
     "output_type": "stream",
     "text": [
      "connecting to MariaDB Dtabase...\n",
      "test db created\n"
     ]
    }
   ],
   "source": [
    "import mysql.connector as mariadb\n",
    "\n",
    "con = mariadb.connect(\n",
    "            host=\"LocaLhost\",\n",
    "            user=\"root\",\n",
    "            password= \"password\",\n",
    "            database=\"classicmodels\"\n",
    ")\n",
    "\n",
    "print (\"connecting to MariaDB Dtabase...\")\n",
    "print(\"test db created\")\n",
    "con.close()\n"
   ]
  },
  {
   "attachments": {},
   "cell_type": "markdown",
   "metadata": {},
   "source": [
    "create a Registration table"
   ]
  },
  {
   "cell_type": "code",
   "execution_count": 13,
   "metadata": {},
   "outputs": [
    {
     "name": "stdout",
     "output_type": "stream",
     "text": [
      "connecting to MariaDB Dtabase...\n",
      "registration table is created\n"
     ]
    }
   ],
   "source": [
    "import mysql.connector as mariadb\n",
    "\n",
    "con = mariadb.connect(\n",
    "            host=\"LocaLhost\",\n",
    "            user=\"root\",\n",
    "            password= \"password\",\n",
    "            database=\"classicmodels\"\n",
    ")\n",
    "\n",
    "print (\"connecting to MariaDB Dtabase...\")\n",
    "\n",
    "cur=con.cursor()\n",
    "\n",
    "st=\"create TABLE Registration \\\n",
    "    (id INTEGER,age INTEGER,\\\n",
    "        First VARCHAR(50),Last VARCHAR(50))\"\n",
    "\n",
    "cur.execute(st)\n",
    "\n",
    "print(\"registration table is created\")\n",
    "\n",
    "con.close()\n"
   ]
  },
  {
   "attachments": {},
   "cell_type": "markdown",
   "metadata": {},
   "source": [
    "insert"
   ]
  },
  {
   "cell_type": "code",
   "execution_count": 14,
   "metadata": {},
   "outputs": [
    {
     "name": "stdout",
     "output_type": "stream",
     "text": [
      "connected to maridb..\n"
     ]
    }
   ],
   "source": [
    "import mysql.connector as mariadb\n",
    "\n",
    "con = mariadb.connect(\n",
    "            host=\"LocaLhost\",\n",
    "            user=\"root\",\n",
    "            password= \"password\",\n",
    "            database=\"classicmodels\"\n",
    ")\n",
    "\n",
    "print('connected to maridb..')\n",
    "\n",
    "cur=con.cursor()\n",
    "\n",
    "st=\"insert into Registration \\\n",
    "    (id,age,first,last) VALUES \\\n",
    "    (100,29,'MICHEAL','JORDAN'),\\\n",
    "    (101,29,'Diego','maradona'), \\\n",
    "    (102,33,'babe','Ruth'), \\\n",
    "    (103,40,'Wayne','Gretzky'), \\\n",
    "    (104,27,'michelle','Kwan'),\\\n",
    "    (105,35,'Steffi','Graf')\""
   ]
  },
  {
   "attachments": {},
   "cell_type": "markdown",
   "metadata": {},
   "source": [
    "update"
   ]
  },
  {
   "cell_type": "code",
   "execution_count": 15,
   "metadata": {},
   "outputs": [
    {
     "name": "stdout",
     "output_type": "stream",
     "text": [
      "connected to maridb..\n",
      "Values are updated\n"
     ]
    }
   ],
   "source": [
    "import mysql.connector as mariadb\n",
    "\n",
    "con = mariadb.connect(\n",
    "            host=\"LocaLhost\",\n",
    "            user=\"root\",\n",
    "            password= \"password\",\n",
    "            database=\"classicmodels\"\n",
    ")\n",
    "\n",
    "print('connected to maridb..')\n",
    "\n",
    "cur=con.cursor()\n",
    "\n",
    "st = \"UPDATE Registration \\\n",
    "    SET age = 30 WHERE id IN (100, 101) \"\n",
    "\n",
    "cur.execute(st)\n",
    "\n",
    "con.commit()\n",
    "\n",
    "print(\"Values are updated\")"
   ]
  }
 ],
 "metadata": {
  "kernelspec": {
   "display_name": "Python 3",
   "language": "python",
   "name": "python3"
  },
  "language_info": {
   "codemirror_mode": {
    "name": "ipython",
    "version": 3
   },
   "file_extension": ".py",
   "mimetype": "text/x-python",
   "name": "python",
   "nbconvert_exporter": "python",
   "pygments_lexer": "ipython3",
   "version": "3.11.0 (main, Oct 24 2022, 18:26:48) [MSC v.1933 64 bit (AMD64)]"
  },
  "orig_nbformat": 4,
  "vscode": {
   "interpreter": {
    "hash": "61e0c81b3bee69d02fcfa24507984663a96db91b02ce28fc95689e165e33abaf"
   }
  }
 },
 "nbformat": 4,
 "nbformat_minor": 2
}
