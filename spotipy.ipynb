{
 "cells": [
  {
   "cell_type": "code",
   "execution_count": 29,
   "metadata": {},
   "outputs": [],
   "source": [
    "import spotipy\n",
    "from spotipy.oauth2 import SpotifyClientCredentials\n",
    "import requests\n",
    "from pprint import pp"
   ]
  },
  {
   "cell_type": "code",
   "execution_count": 30,
   "metadata": {},
   "outputs": [
    {
     "name": "stdout",
     "output_type": "stream",
     "text": [
      "<spotipy.client.Spotify object at 0x000001D748427250>\n"
     ]
    }
   ],
   "source": [
    "#Authentication - without user\n",
    "# object\n",
    "client_credentials_manager = SpotifyClientCredentials(client_id='b6f95004e38b49a9bb118f9c9529ab33', client_secret='4a2077fa0b2943bea35688db67376f34')\n",
    "sp = spotipy.Spotify(client_credentials_manager = client_credentials_manager)\n",
    "pp(sp)"
   ]
  },
  {
   "cell_type": "code",
   "execution_count": 47,
   "metadata": {},
   "outputs": [],
   "source": [
    "# Extract all URI's\n",
    "playlist_link = \"https://open.spotify.com/playlist/37i9dQZEVXbNG2KDcFcKOF?si=1333723a6eff4b7f\"\n",
    "playlist_URI = playlist_link.split(\"/\")[-1].split(\"?\")[0]\n",
    "#pp(playlist_URI)  \n",
    "items = sp.playlist_tracks(playlist_URI)['items'][0]['track']\n",
    "#pp(items)\n",
    "track_uris = [x[\"track\"][\"uri\"] \n",
    "              for x in sp.playlist_tracks(playlist_URI)[\"items\"]]\n",
    "\n",
    "#another way      \n",
    "see_dict = []\n",
    "\n",
    "for x in sp.playlist_tracks(playlist_URI)[\"items\"]:\n",
    "    #pp(x)\n",
    "    see_dict.append(x['track']['uri'])\n",
    "#pp(track_uris)"
   ]
  },
  {
   "cell_type": "code",
   "execution_count": 38,
   "metadata": {},
   "outputs": [
    {
     "name": "stdout",
     "output_type": "stream",
     "text": [
      "'spotify:track:1Qrg8KqiBpW07V7PNxwwwL'\n",
      "'spotify:track:3nqQXoyQOWXiESFLlDF1hG'\n",
      "'spotify:track:4Dvkj6JhhA12EX05fT7y2e'\n",
      "'spotify:track:4uUG5RXrOk84mYEfFvj3cK'\n",
      "'spotify:track:2dHHgzDwk4BJdRwy9uXhTO'\n",
      "'spotify:track:5ww2BF9slyYgNOk37BlC4u'\n",
      "'spotify:track:0V3wPSX9ygBnCm8psDIegu'\n",
      "'spotify:track:2tTmW7RDtMQtBk7m2rYeSw'\n",
      "'spotify:track:2mnXxnrX5vCGolNkaFvVeM'\n",
      "'spotify:track:6Sq7ltF9Qa7SNFBsV5Cogx'\n",
      "'spotify:track:1Y3LN4zO1Edc2EluIoSPJN'\n",
      "'spotify:track:0QHEIqNKsMoOY5urbzN48u'\n",
      "'spotify:track:0WtM2NBVQNNJLh6scP13H8'\n",
      "'spotify:track:1bDbXMyjaUIooNwFE9wn0N'\n",
      "'spotify:track:4h9wh7iOZ0GGn8QVp4RAOB'\n",
      "'spotify:track:1zsPaEkglFvxjAhrM8yhpr'\n",
      "'spotify:track:1IHWl5LamUGEuP4ozKQSXZ'\n",
      "'spotify:track:7jtQIBanIiJOMS6RyCx6jZ'\n",
      "'spotify:track:5WxVXxCMRnvxUKFq40ELwq'\n",
      "'spotify:track:5odlY52u43F5BjByhxg7wg'\n",
      "'spotify:track:3r8RuvgbX9s7ammBn07D3W'\n",
      "'spotify:track:3zkyus0njMCL6phZmNNEeN'\n",
      "'spotify:track:2LBqCSwhJGcFQeTHMVGwy3'\n",
      "'spotify:track:73vIOb4Q7YN6HeJTbscRx5'\n",
      "'spotify:track:54ELExv56KCAB4UP9cOCzC'\n",
      "'spotify:track:5IgjP7X4th6nMNDh4akUHb'\n",
      "'spotify:track:561jH07mF1jHuk7KlaeF0s'\n",
      "'spotify:track:78Sw5GDo6AlGwTwanjXbGh'\n",
      "'spotify:track:53tfEupEzQRtVFOeZvk7xq'\n",
      "'spotify:track:1xzi1Jcr7mEi9K2RfzLOqS'\n",
      "'spotify:track:5XeFesFbtLpXzIVDNQP22n'\n",
      "'spotify:track:11BKm0j4eYoCPPpCONAVwA'\n",
      "'spotify:track:5Eax0qFko2dh7Rl2lYs3bx'\n",
      "'spotify:track:3k3NWokhRRkEPhCzPmV8TW'\n",
      "'spotify:track:4k6Uh1HXdhtusDW5y8Gbvy'\n",
      "'spotify:track:02MWAaffLxlfxAUY7c5dvx'\n",
      "'spotify:track:1xK59OXxi2TAAAbmZK0kBL'\n",
      "'spotify:track:6zJejIfVYLgjud3lTk4DLB'\n",
      "'spotify:track:2QjOHCTQ1Jl3zawyYOpxh6'\n",
      "'spotify:track:5PjdY0CKGZdEuoNab3yDmX'\n",
      "'spotify:track:1418IuVKQPTYqt7QNJ9RXN'\n",
      "'spotify:track:0VjIjW4GlUZAMYd2vXMi3b'\n",
      "'spotify:track:5Y35SjAfXjjG0sFQ3KOxmm'\n",
      "'spotify:track:2CeKVsFFXG4QzA415QygGb'\n",
      "'spotify:track:4FyesJzVpA39hbYvcseO2d'\n",
      "'spotify:track:6JIC3hbC28JZKZ8AlAqX8h'\n",
      "'spotify:track:54ipXppHLA8U4yqpOFTUhr'\n",
      "'spotify:track:31i56LZnwE6uSu3exoHjtB'\n",
      "'spotify:track:33cF8aTmGJ6TsEf23uqGIN'\n",
      "'spotify:track:7MXVkk9YMctZqd1Srtv4MB'\n"
     ]
    }
   ],
   "source": [
    "# extract name of each track, \n",
    "# The name of album that it belongs to\n",
    "# Popularity of track\n",
    "\n",
    "for track in sp.playlist_tracks(playlist_URI)['items']:\n",
    "    # Track URI\n",
    "    track_uri = track[\"track\"][\"uri\"]\n",
    "    #pp(track_uri)  #same as above for extracting uri's\n",
    "    "
   ]
  },
  {
   "cell_type": "code",
   "execution_count": 27,
   "metadata": {},
   "outputs": [
    {
     "name": "stdout",
     "output_type": "stream",
     "text": [
      "Young Heart\n",
      "Beautiful Lies\n",
      "Beautiful Lies\n",
      "Beautiful Lies (Deluxe)\n",
      "Beautiful Lies (Deluxe)\n",
      "Fire Within\n",
      "Fire Within\n",
      "Fire Within (Deluxe)\n",
      "Fire Within (Deluxe)\n",
      "Fire Within (Deluxe)\n",
      "Live in London\n",
      "Birdy\n",
      "Birdy\n",
      "Birdy\n",
      "Birdy\n",
      "Birdy (Deluxe Version)\n"
     ]
    }
   ],
   "source": [
    "#quick example of using Spotipy to list the names of all the albums released by the artist ‘Birdy’:\n",
    "\n",
    "birdy_uri = 'spotify:artist:2WX2uTcsvV5OnS0inACecP'\n",
    "spotify = spotipy.Spotify(client_credentials_manager=SpotifyClientCredentials(client_id='b6f95004e38b49a9bb118f9c9529ab33', client_secret='4a2077fa0b2943bea35688db67376f34'))\n",
    "\n",
    "results = spotify.artist_albums(birdy_uri, album_type='album')\n",
    "albums = results['items']\n",
    "while results['next']:\n",
    "    results = spotify.next(results)\n",
    "    albums.extend(results['items'])\n",
    "\n",
    "for album in albums:\n",
    "    print(album['name'])"
   ]
  },
  {
   "cell_type": "code",
   "execution_count": 26,
   "metadata": {},
   "outputs": [
    {
     "name": "stdout",
     "output_type": "stream",
     "text": [
      "track    : Stairway to Heaven - Remaster\n",
      "audio    : https://p.scdn.co/mp3-preview/fc80a280376d5142c888475bd8fdcd00b4fc8d7d?cid=b6f95004e38b49a9bb118f9c9529ab33\n",
      "cover art: https://i.scdn.co/image/ab67616d0000b273c8a11e48c91a982d086afc69\n",
      "\n",
      "track    : Immigrant Song - Remaster\n",
      "audio    : https://p.scdn.co/mp3-preview/e5910b86cc788766388cca1c494094e39186aa1e?cid=b6f95004e38b49a9bb118f9c9529ab33\n",
      "cover art: https://i.scdn.co/image/ab67616d0000b27390a50cfe99a4c19ff3cbfbdb\n",
      "\n",
      "track    : Whole Lotta Love - 1990 Remaster\n",
      "audio    : https://p.scdn.co/mp3-preview/f3765a6c5b194302c6e7fffc31ba21e2bd616cf6?cid=b6f95004e38b49a9bb118f9c9529ab33\n",
      "cover art: https://i.scdn.co/image/ab67616d0000b273fc4f17340773c6c3579fea0d\n",
      "\n",
      "track    : Black Dog - Remaster\n",
      "audio    : https://p.scdn.co/mp3-preview/f82af31817a7ec198a709e68f0f0f9edfc9a7e81?cid=b6f95004e38b49a9bb118f9c9529ab33\n",
      "cover art: https://i.scdn.co/image/ab67616d0000b273c8a11e48c91a982d086afc69\n",
      "\n",
      "track    : Rock and Roll - Remaster\n",
      "audio    : https://p.scdn.co/mp3-preview/6ce49759af47a1eb104e05dac1938d79ddb15ebd?cid=b6f95004e38b49a9bb118f9c9529ab33\n",
      "cover art: https://i.scdn.co/image/ab67616d0000b273c8a11e48c91a982d086afc69\n",
      "\n",
      "track    : Ramble On - 1990 Remaster\n",
      "audio    : https://p.scdn.co/mp3-preview/6b06102e8b3cf22d49834f443f7870f7f1bbdbb4?cid=b6f95004e38b49a9bb118f9c9529ab33\n",
      "cover art: https://i.scdn.co/image/ab67616d0000b273fc4f17340773c6c3579fea0d\n",
      "\n",
      "track    : Good Times Bad Times - 1993 Remaster\n",
      "audio    : https://p.scdn.co/mp3-preview/9d54ac8d655aebf2920de790b421ba13e3508d5b?cid=b6f95004e38b49a9bb118f9c9529ab33\n",
      "cover art: https://i.scdn.co/image/ab67616d0000b2736f2f499c1df1f210c9b34b32\n",
      "\n",
      "track    : Kashmir - Remaster\n",
      "audio    : https://p.scdn.co/mp3-preview/64908f0ca685e8727a2f07615ee147d28adbc450?cid=b6f95004e38b49a9bb118f9c9529ab33\n",
      "cover art: https://i.scdn.co/image/ab67616d0000b273765b0617b572bdd1dbdc7d8e\n",
      "\n",
      "track    : Going to California - Remaster\n",
      "audio    : https://p.scdn.co/mp3-preview/85bbb9572e554786b320555e9bab071986fe73de?cid=b6f95004e38b49a9bb118f9c9529ab33\n",
      "cover art: https://i.scdn.co/image/ab67616d0000b273c8a11e48c91a982d086afc69\n",
      "\n",
      "track    : D'yer Mak'er - Remaster\n",
      "audio    : https://p.scdn.co/mp3-preview/d270345618cefadf336a0c7289601e844099265c?cid=b6f95004e38b49a9bb118f9c9529ab33\n",
      "cover art: https://i.scdn.co/image/ab67616d0000b2731816adce1d49e35d3ce9a1d1\n",
      "\n"
     ]
    }
   ],
   "source": [
    "# example showing how to get 30 second samples and cover art for the top 10 tracks for Led Zeppelin:\n",
    "\n",
    "lz_uri = 'spotify:artist:36QJpDe2go2KgaRleHCDTp'\n",
    "\n",
    "spotify = spotipy.Spotify(client_credentials_manager=SpotifyClientCredentials(client_id='b6f95004e38b49a9bb118f9c9529ab33', client_secret='4a2077fa0b2943bea35688db67376f34'))\n",
    "results = spotify.artist_top_tracks(lz_uri)\n",
    "\n",
    "for track in results['tracks'][:10]:\n",
    "    print('track    : ' + track['name'])\n",
    "    print('audio    : ' + track['preview_url'])\n",
    "    print('cover art: ' + track['album']['images'][0]['url'])\n",
    "    print()"
   ]
  },
  {
   "cell_type": "code",
   "execution_count": 28,
   "metadata": {},
   "outputs": [
    {
     "name": "stderr",
     "output_type": "stream",
     "text": [
      "HTTP Error for GET to https://api.spotify.com/v1/search with Params: {'q': 'artist:--ip=127.0.0.1 --stdin=9008 --control=9006 --hb=9005 --Session.signature_scheme=\"hmac-sha256\" --Session.key=b\"5daae3c4-3d54-4eea-8226-af105f3c02a9\" --shell=9007 --transport=\"tcp\" --iopub=9009 --f=c:\\\\Users\\\\Learner_XZHCG217\\\\AppData\\\\Roaming\\\\jupyter\\\\runtime\\\\kernel-v2-12080tJLSer3PoGMc.json', 'limit': 10, 'offset': 0, 'type': 'artist', 'market': None} returned 400 due to Bad request.\n"
     ]
    },
    {
     "ename": "SpotifyException",
     "evalue": "http status: 400, code:-1 - https://api.spotify.com/v1/search?q=artist%3A--ip%3D127.0.0.1+--stdin%3D9008+--control%3D9006+--hb%3D9005+--Session.signature_scheme%3D%22hmac-sha256%22+--Session.key%3Db%225daae3c4-3d54-4eea-8226-af105f3c02a9%22+--shell%3D9007+--transport%3D%22tcp%22+--iopub%3D9009+--f%3Dc%3A%5CUsers%5CLearner_XZHCG217%5CAppData%5CRoaming%5Cjupyter%5Cruntime%5Ckernel-v2-12080tJLSer3PoGMc.json&limit=10&offset=0&type=artist:\n Bad request., reason: None",
     "output_type": "error",
     "traceback": [
      "\u001b[1;31m---------------------------------------------------------------------------\u001b[0m",
      "\u001b[1;31mHTTPError\u001b[0m                                 Traceback (most recent call last)",
      "File \u001b[1;32mc:\\Users\\Learner_XZHCG217\\AppData\\Local\\Programs\\Python\\Python311\\Lib\\site-packages\\spotipy\\client.py:245\u001b[0m, in \u001b[0;36mSpotify._internal_call\u001b[1;34m(self, method, url, payload, params)\u001b[0m\n\u001b[0;32m    240\u001b[0m response \u001b[39m=\u001b[39m \u001b[39mself\u001b[39m\u001b[39m.\u001b[39m_session\u001b[39m.\u001b[39mrequest(\n\u001b[0;32m    241\u001b[0m     method, url, headers\u001b[39m=\u001b[39mheaders, proxies\u001b[39m=\u001b[39m\u001b[39mself\u001b[39m\u001b[39m.\u001b[39mproxies,\n\u001b[0;32m    242\u001b[0m     timeout\u001b[39m=\u001b[39m\u001b[39mself\u001b[39m\u001b[39m.\u001b[39mrequests_timeout, \u001b[39m*\u001b[39m\u001b[39m*\u001b[39margs\n\u001b[0;32m    243\u001b[0m )\n\u001b[1;32m--> 245\u001b[0m response\u001b[39m.\u001b[39;49mraise_for_status()\n\u001b[0;32m    246\u001b[0m results \u001b[39m=\u001b[39m response\u001b[39m.\u001b[39mjson()\n",
      "File \u001b[1;32mc:\\Users\\Learner_XZHCG217\\AppData\\Local\\Programs\\Python\\Python311\\Lib\\site-packages\\requests\\models.py:1021\u001b[0m, in \u001b[0;36mResponse.raise_for_status\u001b[1;34m(self)\u001b[0m\n\u001b[0;32m   1020\u001b[0m \u001b[39mif\u001b[39;00m http_error_msg:\n\u001b[1;32m-> 1021\u001b[0m     \u001b[39mraise\u001b[39;00m HTTPError(http_error_msg, response\u001b[39m=\u001b[39m\u001b[39mself\u001b[39m)\n",
      "\u001b[1;31mHTTPError\u001b[0m: 400 Client Error: Bad Request for url: https://api.spotify.com/v1/search?q=artist%3A--ip%3D127.0.0.1+--stdin%3D9008+--control%3D9006+--hb%3D9005+--Session.signature_scheme%3D%22hmac-sha256%22+--Session.key%3Db%225daae3c4-3d54-4eea-8226-af105f3c02a9%22+--shell%3D9007+--transport%3D%22tcp%22+--iopub%3D9009+--f%3Dc%3A%5CUsers%5CLearner_XZHCG217%5CAppData%5CRoaming%5Cjupyter%5Cruntime%5Ckernel-v2-12080tJLSer3PoGMc.json&limit=10&offset=0&type=artist",
      "\nDuring handling of the above exception, another exception occurred:\n",
      "\u001b[1;31mSpotifyException\u001b[0m                          Traceback (most recent call last)",
      "Cell \u001b[1;32mIn[28], line 14\u001b[0m\n\u001b[0;32m     11\u001b[0m \u001b[39melse\u001b[39;00m:\n\u001b[0;32m     12\u001b[0m     name \u001b[39m=\u001b[39m \u001b[39m'\u001b[39m\u001b[39mRadiohead\u001b[39m\u001b[39m'\u001b[39m\n\u001b[1;32m---> 14\u001b[0m results \u001b[39m=\u001b[39m spotify\u001b[39m.\u001b[39;49msearch(q\u001b[39m=\u001b[39;49m\u001b[39m'\u001b[39;49m\u001b[39martist:\u001b[39;49m\u001b[39m'\u001b[39;49m \u001b[39m+\u001b[39;49m name, \u001b[39mtype\u001b[39;49m\u001b[39m=\u001b[39;49m\u001b[39m'\u001b[39;49m\u001b[39martist\u001b[39;49m\u001b[39m'\u001b[39;49m)\n\u001b[0;32m     15\u001b[0m items \u001b[39m=\u001b[39m results[\u001b[39m'\u001b[39m\u001b[39martists\u001b[39m\u001b[39m'\u001b[39m][\u001b[39m'\u001b[39m\u001b[39mitems\u001b[39m\u001b[39m'\u001b[39m]\n\u001b[0;32m     16\u001b[0m \u001b[39mif\u001b[39;00m \u001b[39mlen\u001b[39m(items) \u001b[39m>\u001b[39m \u001b[39m0\u001b[39m:\n",
      "File \u001b[1;32mc:\\Users\\Learner_XZHCG217\\AppData\\Local\\Programs\\Python\\Python311\\Lib\\site-packages\\spotipy\\client.py:561\u001b[0m, in \u001b[0;36mSpotify.search\u001b[1;34m(self, q, limit, offset, type, market)\u001b[0m\n\u001b[0;32m    546\u001b[0m \u001b[39mdef\u001b[39;00m \u001b[39msearch\u001b[39m(\u001b[39mself\u001b[39m, q, limit\u001b[39m=\u001b[39m\u001b[39m10\u001b[39m, offset\u001b[39m=\u001b[39m\u001b[39m0\u001b[39m, \u001b[39mtype\u001b[39m\u001b[39m=\u001b[39m\u001b[39m\"\u001b[39m\u001b[39mtrack\u001b[39m\u001b[39m\"\u001b[39m, market\u001b[39m=\u001b[39m\u001b[39mNone\u001b[39;00m):\n\u001b[0;32m    547\u001b[0m     \u001b[39m\"\"\" searches for an item\u001b[39;00m\n\u001b[0;32m    548\u001b[0m \n\u001b[0;32m    549\u001b[0m \u001b[39m        Parameters:\u001b[39;00m\n\u001b[1;32m   (...)\u001b[0m\n\u001b[0;32m    559\u001b[0m \u001b[39m                       from_token.\u001b[39;00m\n\u001b[0;32m    560\u001b[0m \u001b[39m    \"\"\"\u001b[39;00m\n\u001b[1;32m--> 561\u001b[0m     \u001b[39mreturn\u001b[39;00m \u001b[39mself\u001b[39;49m\u001b[39m.\u001b[39;49m_get(\n\u001b[0;32m    562\u001b[0m         \u001b[39m\"\u001b[39;49m\u001b[39msearch\u001b[39;49m\u001b[39m\"\u001b[39;49m, q\u001b[39m=\u001b[39;49mq, limit\u001b[39m=\u001b[39;49mlimit, offset\u001b[39m=\u001b[39;49moffset, \u001b[39mtype\u001b[39;49m\u001b[39m=\u001b[39;49m\u001b[39mtype\u001b[39;49m, market\u001b[39m=\u001b[39;49mmarket\n\u001b[0;32m    563\u001b[0m     )\n",
      "File \u001b[1;32mc:\\Users\\Learner_XZHCG217\\AppData\\Local\\Programs\\Python\\Python311\\Lib\\site-packages\\spotipy\\client.py:297\u001b[0m, in \u001b[0;36mSpotify._get\u001b[1;34m(self, url, args, payload, **kwargs)\u001b[0m\n\u001b[0;32m    294\u001b[0m \u001b[39mif\u001b[39;00m args:\n\u001b[0;32m    295\u001b[0m     kwargs\u001b[39m.\u001b[39mupdate(args)\n\u001b[1;32m--> 297\u001b[0m \u001b[39mreturn\u001b[39;00m \u001b[39mself\u001b[39;49m\u001b[39m.\u001b[39;49m_internal_call(\u001b[39m\"\u001b[39;49m\u001b[39mGET\u001b[39;49m\u001b[39m\"\u001b[39;49m, url, payload, kwargs)\n",
      "File \u001b[1;32mc:\\Users\\Learner_XZHCG217\\AppData\\Local\\Programs\\Python\\Python311\\Lib\\site-packages\\spotipy\\client.py:267\u001b[0m, in \u001b[0;36mSpotify._internal_call\u001b[1;34m(self, method, url, payload, params)\u001b[0m\n\u001b[0;32m    260\u001b[0m         reason \u001b[39m=\u001b[39m \u001b[39mNone\u001b[39;00m\n\u001b[0;32m    262\u001b[0m     logger\u001b[39m.\u001b[39merror(\n\u001b[0;32m    263\u001b[0m         \u001b[39m'\u001b[39m\u001b[39mHTTP Error for \u001b[39m\u001b[39m%s\u001b[39;00m\u001b[39m to \u001b[39m\u001b[39m%s\u001b[39;00m\u001b[39m with Params: \u001b[39m\u001b[39m%s\u001b[39;00m\u001b[39m returned \u001b[39m\u001b[39m%s\u001b[39;00m\u001b[39m due to \u001b[39m\u001b[39m%s\u001b[39;00m\u001b[39m'\u001b[39m,\n\u001b[0;32m    264\u001b[0m         method, url, args\u001b[39m.\u001b[39mget(\u001b[39m\"\u001b[39m\u001b[39mparams\u001b[39m\u001b[39m\"\u001b[39m), response\u001b[39m.\u001b[39mstatus_code, msg\n\u001b[0;32m    265\u001b[0m     )\n\u001b[1;32m--> 267\u001b[0m     \u001b[39mraise\u001b[39;00m SpotifyException(\n\u001b[0;32m    268\u001b[0m         response\u001b[39m.\u001b[39mstatus_code,\n\u001b[0;32m    269\u001b[0m         \u001b[39m-\u001b[39m\u001b[39m1\u001b[39m,\n\u001b[0;32m    270\u001b[0m         \u001b[39m\"\u001b[39m\u001b[39m%s\u001b[39;00m\u001b[39m:\u001b[39m\u001b[39m\\n\u001b[39;00m\u001b[39m \u001b[39m\u001b[39m%s\u001b[39;00m\u001b[39m\"\u001b[39m \u001b[39m%\u001b[39m (response\u001b[39m.\u001b[39murl, msg),\n\u001b[0;32m    271\u001b[0m         reason\u001b[39m=\u001b[39mreason,\n\u001b[0;32m    272\u001b[0m         headers\u001b[39m=\u001b[39mresponse\u001b[39m.\u001b[39mheaders,\n\u001b[0;32m    273\u001b[0m     )\n\u001b[0;32m    274\u001b[0m \u001b[39mexcept\u001b[39;00m requests\u001b[39m.\u001b[39mexceptions\u001b[39m.\u001b[39mRetryError \u001b[39mas\u001b[39;00m retry_error:\n\u001b[0;32m    275\u001b[0m     request \u001b[39m=\u001b[39m retry_error\u001b[39m.\u001b[39mrequest\n",
      "\u001b[1;31mSpotifyException\u001b[0m: http status: 400, code:-1 - https://api.spotify.com/v1/search?q=artist%3A--ip%3D127.0.0.1+--stdin%3D9008+--control%3D9006+--hb%3D9005+--Session.signature_scheme%3D%22hmac-sha256%22+--Session.key%3Db%225daae3c4-3d54-4eea-8226-af105f3c02a9%22+--shell%3D9007+--transport%3D%22tcp%22+--iopub%3D9009+--f%3Dc%3A%5CUsers%5CLearner_XZHCG217%5CAppData%5CRoaming%5Cjupyter%5Cruntime%5Ckernel-v2-12080tJLSer3PoGMc.json&limit=10&offset=0&type=artist:\n Bad request., reason: None"
     ]
    }
   ],
   "source": [
    "#  example that will get the URL for an artist image given the artist’s name:\n",
    "\n",
    "import spotipy\n",
    "import sys\n",
    "from spotipy.oauth2 import SpotifyClientCredentials\n",
    "\n",
    "spotify = spotipy.Spotify(auth_manager=SpotifyClientCredentials(client_id='b6f95004e38b49a9bb118f9c9529ab33', client_secret='4a2077fa0b2943bea35688db67376f34'))\n",
    "\n",
    "if len(sys.argv) > 1:\n",
    "    name = ' '.join(sys.argv[1:])\n",
    "else:\n",
    "    name = 'Radiohead'\n",
    "\n",
    "results = spotify.search(q='artist:' + name, type='artist')\n",
    "items = results['artists']['items']\n",
    "if len(items) > 0:\n",
    "    artist = items[0]\n",
    "    print(artist['name'], artist['images'][0]['url'])"
   ]
  }
 ],
 "metadata": {
  "kernelspec": {
   "display_name": "Python 3",
   "language": "python",
   "name": "python3"
  },
  "language_info": {
   "codemirror_mode": {
    "name": "ipython",
    "version": 3
   },
   "file_extension": ".py",
   "mimetype": "text/x-python",
   "name": "python",
   "nbconvert_exporter": "python",
   "pygments_lexer": "ipython3",
   "version": "3.11.0"
  },
  "orig_nbformat": 4,
  "vscode": {
   "interpreter": {
    "hash": "61e0c81b3bee69d02fcfa24507984663a96db91b02ce28fc95689e165e33abaf"
   }
  }
 },
 "nbformat": 4,
 "nbformat_minor": 2
}
